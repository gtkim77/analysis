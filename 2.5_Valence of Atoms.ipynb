{
  "nbformat": 4,
  "nbformat_minor": 0,
  "metadata": {
    "colab": {
      "provenance": [],
      "authorship_tag": "ABX9TyMW2dLiieQN5gq741JaSKfE",
      "include_colab_link": true
    },
    "kernelspec": {
      "name": "python3",
      "display_name": "Python 3"
    },
    "language_info": {
      "name": "python"
    }
  },
  "cells": [
    {
      "cell_type": "markdown",
      "metadata": {
        "id": "view-in-github",
        "colab_type": "text"
      },
      "source": [
        "<a href=\"https://colab.research.google.com/github/gtkim77/analysis/blob/problems/2.5_Valence%20of%20Atoms.ipynb\" target=\"_parent\"><img src=\"https://colab.research.google.com/assets/colab-badge.svg\" alt=\"Open In Colab\"/></a>"
      ]
    },
    {
      "cell_type": "code",
      "execution_count": null,
      "metadata": {
        "colab": {
          "base_uri": "https://localhost:8080/"
        },
        "id": "aynE3d2snrsW",
        "outputId": "53710bef-553f-48ad-aaaf-bcab627653f7"
      },
      "outputs": [
        {
          "output_type": "stream",
          "name": "stdout",
          "text": [
            "Na : Calculated valence (1.11), ratio (1.11)\n",
            "Mg : Calculated valence (1.92), ratio (0.96)\n",
            "Ag : Calculated valence (1.20), ratio (1.20)\n",
            "Zn : Calculated valence (2.01), ratio (1.00)\n",
            "Al : Calculated valence (3.26), ratio (1.09)\n",
            "Sn : Calculated valence (3.94), ratio (0.98)\n",
            "Pb : Calculated valence (3.98), ratio (0.99)\n"
          ]
        }
      ],
      "source": [
        "import numpy as np\n",
        "\n",
        "infos = {\n",
        "    \"Na\": {\"Grouup\": \"IA\", \"Valence\": 1, \"Density\": 0.97, \"Resistivity\": 42.0, \"Mobility\": 53, \"AtomicMass\": 22.9897},\n",
        "    \"Mg\": {\"Grouup\": \"IIA\", \"Valence\": 2, \"Density\": 1.74, \"Resistivity\": 44.5, \"Mobility\": 17, \"AtomicMass\": 24.305},\n",
        "    \"Ag\": {\"Grouup\": \"IB\", \"Valence\": 1, \"Density\": 10.5, \"Resistivity\": 15.9, \"Mobility\": 56, \"AtomicMass\": 107.868},\n",
        "    \"Zn\": {\"Grouup\": \"IIB\", \"Valence\": 2, \"Density\": 7.14, \"Resistivity\": 59.2, \"Mobility\": 8, \"AtomicMass\": 65.4},\n",
        "    \"Al\": {\"Grouup\": \"IIIB\", \"Valence\": 3, \"Density\": 2.7, \"Resistivity\": 26.5, \"Mobility\": 12, \"AtomicMass\": 26.9815},\n",
        "    \"Sn\": {\"Grouup\": \"IVB\", \"Valence\": 4, \"Density\": 7.30, \"Resistivity\": 110, \"Mobility\": 3.9, \"AtomicMass\": 118.71},\n",
        "    \"Pb\": {\"Grouup\": \"IVB\", \"Valence\": 4, \"Density\": 11.4, \"Resistivity\": 206, \"Mobility\": 2.3, \"AtomicMass\": 207}\n",
        "}\n",
        "\n",
        "def alpha(info):\n",
        "  valence = 1 / (info[\"Resistivity\"] * 10**(-7)) / info[\"Mobility\"] / (1.6 * 6.02 * 10**(4)) * info[\"AtomicMass\"] / info[\"Density\"]\n",
        "  relative = valence / info[\"Valence\"]\n",
        "  return valence, relative\n",
        "\n",
        "for key in infos.keys():\n",
        "  valence, ratio = alpha(infos[key])\n",
        "  print(\"%s : Calculated valence (%.2f), ratio (%.2f)\" % (key, valence, ratio))"
      ]
    },
    {
      "cell_type": "code",
      "source": [],
      "metadata": {
        "id": "_xfQuH8tqkd5"
      },
      "execution_count": null,
      "outputs": []
    }
  ]
}