{
  "nbformat": 4,
  "nbformat_minor": 0,
  "metadata": {
    "colab": {
      "provenance": [],
      "authorship_tag": "ABX9TyPxAaYakQpyGp+IOKDwPMSL",
      "include_colab_link": true
    },
    "kernelspec": {
      "name": "python3",
      "display_name": "Python 3"
    },
    "language_info": {
      "name": "python"
    }
  },
  "cells": [
    {
      "cell_type": "markdown",
      "metadata": {
        "id": "view-in-github",
        "colab_type": "text"
      },
      "source": [
        "<a href=\"https://colab.research.google.com/github/gtkim77/analysis/blob/problems/4.34_Specific%20Heat%20of%20GaAs%20and%20InSb_.ipynb\" target=\"_parent\"><img src=\"https://colab.research.google.com/assets/colab-badge.svg\" alt=\"Open In Colab\"/></a>"
      ]
    },
    {
      "cell_type": "code",
      "execution_count": null,
      "metadata": {
        "colab": {
          "base_uri": "https://localhost:8080/"
        },
        "id": "GgOMcN9oHNv2",
        "outputId": "fe3ac776-66eb-4fd1-fe5a-bf8206ff0d5e"
      },
      "outputs": [
        {
          "output_type": "stream",
          "name": "stdout",
          "text": [
            "specific heat capacity: 2.82R of GaAs at T = 30.0°C\n",
            "specific heat capacity: 2.72R of GaAs at T = -30.0°C\n",
            "specific heat capacity: 2.93R of InSb at T = 20.0°C\n"
          ]
        }
      ],
      "source": [
        "import numpy as np\n",
        "import scipy.integrate as integrate\n",
        "\n",
        "TD = 344\n",
        "T = 30\n",
        "\n",
        "Tr = TD / (T + 273.15)\n",
        "result = integrate.quad(lambda x: x**4 * np.exp(x)/ (np.exp(x)-1)**2, 0, Tr)\n",
        "print(f\"specific heat capacity: %.2fR of GaAs at T = %.1f\\u00b0C\" % (result[0] * 9 * (1/Tr)**3, T))\n",
        "\n",
        "TD = 344\n",
        "T = -30\n",
        "\n",
        "Tr = TD / (T + 273.15)\n",
        "result = integrate.quad(lambda x: x**4 * np.exp(x)/ (np.exp(x)-1)**2, 0, Tr)\n",
        "print(f\"specific heat capacity: %.2fR of GaAs at T = %.1f\\u00b0C\" % (result[0] * 9 * (1/Tr)**3, T))\n",
        "\n",
        "TD = 203\n",
        "T = 20\n",
        "\n",
        "Tr = TD / (T + 273.15)\n",
        "result = integrate.quad(lambda x: x**4 * np.exp(x)/ (np.exp(x)-1)**2, 0, Tr)\n",
        "print(f\"specific heat capacity: %.2fR of InSb at T = %.1f\\u00b0C\" % (result[0] * 9 * (1/Tr)**3, T))"
      ]
    },
    {
      "cell_type": "code",
      "source": [],
      "metadata": {
        "id": "sCejRLq2He17"
      },
      "execution_count": null,
      "outputs": []
    }
  ]
}